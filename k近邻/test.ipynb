{
 "cells": [
  {
   "cell_type": "code",
   "execution_count": 2,
   "metadata": {},
   "outputs": [],
   "source": [
    "import numpy as np\n",
    "import time as time\n",
    "import tqdm as tqdm\n",
    "def load_data(file_path):\n",
    "    data = []\n",
    "    label = []\n",
    "    with open(file_path, 'r') as f:\n",
    "        for line in f:\n",
    "            cur_line = line.strip().split(',')\n",
    "            label.append(int(cur_line[0]))\n",
    "            data.append([int(i) for i in cur_line[1:]])\n",
    "    return data, label\n",
    "\n",
    "def EuclideanDistance(x, y):\n",
    "    return np.sqrt(np.sum(np.square(x - y)))\n",
    "\n",
    "def ManhattanDistance(x, y):\n",
    "    return np.sqrt(np.sum(np.abs(x - y)))\n",
    "\n",
    "def getClosest(train_data, train_label, x, topk, method):\n",
    "    distance = []\n",
    "    for sample in train_data:\n",
    "        if method == 'Euclidean':\n",
    "            distance.append(EuclideanDistance(sample, x))\n",
    "        else:\n",
    "            distance.append(ManhattanDistance(sample, x))\n",
    "    index = np.argsort(np.array(distance))[:topk]\n",
    "    label = np.array(train_label)[index]\n",
    "    return np.argmax(np.bincount(label))\n",
    "\n",
    "def test(train_data, train_label, test_data, test_label, topk, method):\n",
    "    print('Start testing...')\n",
    "    correct = 0\n",
    "    for i in tqdm.tqdm(range(len(test_data))):\n",
    "        if getClosest(train_data, train_label, test_data[i], topk, method) == test_label[i]:\n",
    "            correct += 1\n",
    "    return correct / len(test_data)\n",
    "\n",
    "def main():\n",
    "    print('Start loading training data...')\n",
    "    train_data, train_label = load_data('../mnist_train.csv')\n",
    "    print('Start loading testing data...')\n",
    "    test_data, test_label = load_data('../mnist_test.csv')\n",
    "    topk = 25\n",
    "    method = 'Euclidean'\n",
    "    start_time = time.time()\n",
    "    accuracy = test(train_data, train_label, test_data, test_label, topk, method)\n",
    "    end_time = time.time()\n",
    "    print('Metric method: {}'.format(method))\n",
    "    print('Accuracy: {:.2f}'.format(accuracy))\n",
    "    print('Testing time: {}'.format(end_time - start_time))\n",
    "\n",
    "if __name__ == '__main__':\n",
    "    main()"
   ]
  },
  {
   "cell_type": "code",
   "execution_count": 4,
   "metadata": {},
   "outputs": [
    {
     "name": "stdout",
     "output_type": "stream",
     "text": [
      "[0 1 1 2 3]\n",
      "3\n"
     ]
    }
   ],
   "source": [
    "a = np.array([1, 2, 3, 3, 4, 4, 4])\n",
    "print(np.bincount(a))\n",
    "print(max(np.bincount(a)))"
   ]
  }
 ],
 "metadata": {
  "kernelspec": {
   "display_name": "cu118",
   "language": "python",
   "name": "python3"
  },
  "language_info": {
   "codemirror_mode": {
    "name": "ipython",
    "version": 3
   },
   "file_extension": ".py",
   "mimetype": "text/x-python",
   "name": "python",
   "nbconvert_exporter": "python",
   "pygments_lexer": "ipython3",
   "version": "3.12.2"
  }
 },
 "nbformat": 4,
 "nbformat_minor": 2
}
