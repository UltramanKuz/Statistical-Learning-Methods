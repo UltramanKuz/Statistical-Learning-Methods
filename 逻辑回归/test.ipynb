{
 "cells": [
  {
   "cell_type": "code",
   "execution_count": 24,
   "metadata": {},
   "outputs": [
    {
     "name": "stdout",
     "output_type": "stream",
     "text": [
      "Start training\n"
     ]
    },
    {
     "name": "stderr",
     "output_type": "stream",
     "text": [
      "100%|██████████| 100/100 [00:47<00:00,  2.10it/s]\n"
     ]
    },
    {
     "name": "stdout",
     "output_type": "stream",
     "text": [
      "Start testing\n",
      "The accuracy is: 0.9922\n",
      "Time span: 57.272411584854126\n"
     ]
    }
   ],
   "source": [
    "import time\n",
    "import numpy as np\n",
    "import tqdm\n",
    "\n",
    "def load_data(file_name):\n",
    "    \"\"\"\n",
    "    加载Mnist数据集\n",
    "    return: data: 图片数据, label: 标签\n",
    "    \"\"\"\n",
    "    data = []\n",
    "    label = []\n",
    "\n",
    "    with open(file_name) as f:\n",
    "        for line in f:\n",
    "            line = line.strip().split(',')\n",
    "            # 归一化数据集\n",
    "            data.append([int(i) / 255 for i in line[1:]])\n",
    "            # 二分类问题，只判断是否为0，若按照大于等于5判断，则精确率会降低(原博主调试结果)\n",
    "            label.append(1 if int(line[0]) == 0 else 0)\n",
    "    return data, label\n",
    "\n",
    "def predict(w, x):\n",
    "    \"\"\"\n",
    "    预测样本类别，根据逻辑回归的思想，sigmoid函数：p = 1 / (1 + e^(-wx))\n",
    "    当p大于0.5时为正例，否则为负例\n",
    "    \n",
    "    \"\"\"\n",
    "    wx = np.dot(w, x)\n",
    "    p = np.exp(wx) / (1 + np.exp(wx))\n",
    "    return 1 if p >= 0.5 else 0\n",
    "\n",
    "def logistic_regression(data, label, lr=0.001, iterations=100):\n",
    "    \"\"\"\n",
    "    训练逻辑回归模型，使用随机梯度法, 此处的目标函数为极大似然函数，故使用梯度上升方法\n",
    "    \"\"\"\n",
    "    for i in range(len(data)):\n",
    "        data[i].append(1)\n",
    "    data = np.array(data)\n",
    "    w = np.zeros(len(data[0]))\n",
    "\n",
    "    for i in tqdm.tqdm(range(iterations)):\n",
    "        for x, y in zip(data, label):\n",
    "            wx = np.dot(w, x)\n",
    "            p = np.exp(wx) / (1 + np.exp(wx))\n",
    "            # 计算关于每个算例的梯度，分别求导，然后累加\n",
    "            w += lr * (y * x - (np.exp(wx) * x) / (1 + np.exp(wx)))\n",
    "    return w\n",
    "\n",
    "def test(data, label, w):\n",
    "    \"\"\"\n",
    "    计算测试数据集的精确率\n",
    "    \"\"\"\n",
    "    error_cnt = 0\n",
    "    for i in range(len(data)):\n",
    "        data[i].append(1)\n",
    "    for i in range(len(data)):\n",
    "        if predict(w, data[i]) != label[i]:\n",
    "            error_cnt += 1\n",
    "    return 1 - error_cnt / len(data)\n",
    "\n",
    "def main():\n",
    "    #开始时间\n",
    "    start = time.time()\n",
    "\n",
    "    # 获取训练集\n",
    "    trainDataList, trainLabelList = load_data('../mnist_train.csv')\n",
    "    # 获取测试集\n",
    "    testDataList, testLabelList = load_data('../mnist_test.csv')\n",
    "\n",
    "    #在训练集上学习模型参数w\n",
    "    print('Start training')\n",
    "    w = logistic_regression(trainDataList, trainLabelList, lr=0.001, iterations=100)\n",
    "\n",
    "    #测试准确率\n",
    "    print('Start testing')\n",
    "    accur = test(testDataList, testLabelList, w)\n",
    "    print('The accuracy is:', accur)\n",
    "\n",
    "    #结束时间\n",
    "    end = time.time()\n",
    "    print('Time span:', end - start)\n",
    "\n",
    "if __name__ == '__main__':\n",
    "    main()\n",
    "\n"
   ]
  }
 ],
 "metadata": {
  "kernelspec": {
   "display_name": "cu118",
   "language": "python",
   "name": "python3"
  },
  "language_info": {
   "codemirror_mode": {
    "name": "ipython",
    "version": 3
   },
   "file_extension": ".py",
   "mimetype": "text/x-python",
   "name": "python",
   "nbconvert_exporter": "python",
   "pygments_lexer": "ipython3",
   "version": "3.12.2"
  }
 },
 "nbformat": 4,
 "nbformat_minor": 2
}
