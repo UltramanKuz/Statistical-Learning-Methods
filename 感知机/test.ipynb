{
 "cells": [
  {
   "cell_type": "code",
   "execution_count": 2,
   "metadata": {},
   "outputs": [
    {
     "name": "stdout",
     "output_type": "stream",
     "text": [
      "Start to train:\n"
     ]
    },
    {
     "name": "stderr",
     "output_type": "stream",
     "text": [
      "100%|██████████| 50/50 [01:23<00:00,  1.66s/it]\n"
     ]
    },
    {
     "name": "stdout",
     "output_type": "stream",
     "text": [
      "Training cost 83.16 seconds\n",
      "Start to test:\n",
      "Testing cost 0.26 seconds\n",
      "The accuracy is 0.80\n"
     ]
    }
   ],
   "source": [
    "import numpy as np\n",
    "import time\n",
    "import tqdm\n",
    "\n",
    "\n",
    "\n",
    "def load_data(file_path):\n",
    "    \"\"\"\n",
    "    加载Mnist数据，返回数据集和标签\n",
    "    \"\"\"\n",
    "    data = []\n",
    "    label = []\n",
    "    with open(file_path, 'r') as f:\n",
    "        for line in f:\n",
    "            cur_line = line.strip().split(',')\n",
    "            if int(cur_line[0]) >= 5:\n",
    "                label.append(-1)\n",
    "            else:\n",
    "                label.append(1)\n",
    "            data.append([int(num) / 255 for num in cur_line[1:]])\n",
    "    return data, label\n",
    "\n",
    "def train(data, label, epoch=50, lr = 0.0001):\n",
    "    \"\"\"\n",
    "    感知器训练过程\n",
    "    data: 训练集的数据\n",
    "    label: 训练集的标签\n",
    "    epoch: 迭代次数，默认50\n",
    "    \"\"\"\n",
    "    print('Start to train:')\n",
    "    start_time = time.time()\n",
    "\n",
    "    dimension = len(data[0])\n",
    "    w = np.random.randn(dimension)\n",
    "    b = 0\n",
    "    \n",
    "    for _ in tqdm.tqdm(range(epoch)):\n",
    "        for i in range(len(data)):\n",
    "            x = np.array(data[i])\n",
    "            y = label[i]\n",
    "            if y * (np.dot(w, x) + b) <= 0:\n",
    "                w += lr * y * x\n",
    "                b += lr * y\n",
    "    end_time = time.time()\n",
    "    print('Training cost %.2f seconds' % (end_time - start_time))\n",
    "    return w, b\n",
    "\n",
    "def test(data, label, w, b):\n",
    "    print('Start to test:')\n",
    "    start_time = time.time()\n",
    "    error_count = 0\n",
    "    for i in range(len(data)):\n",
    "        x = data[i]\n",
    "        y = label[i]\n",
    "        if y * (np.dot(w, x) + b) <= 0:\n",
    "            error_count += 1\n",
    "    error_rate = error_count / len(data)\n",
    "    end_time = time.time()\n",
    "    print('Testing cost %.2f seconds' % (end_time - start_time))\n",
    "    return 1 - error_rate\n",
    "\n",
    "if __name__ == '__main__':\n",
    "    train_data, train_label = load_data('../mnist_train.csv')\n",
    "    test_data, test_label = load_data('../mnist_test.csv')\n",
    "    w, b = train(train_data, train_label)\n",
    "    acc = test(test_data, test_label, w, b)\n",
    "    print('The accuracy is %.2f' % acc)\n",
    "\n"
   ]
  }
 ],
 "metadata": {
  "kernelspec": {
   "display_name": "cu118",
   "language": "python",
   "name": "python3"
  },
  "language_info": {
   "codemirror_mode": {
    "name": "ipython",
    "version": 3
   },
   "file_extension": ".py",
   "mimetype": "text/x-python",
   "name": "python",
   "nbconvert_exporter": "python",
   "pygments_lexer": "ipython3",
   "version": "3.12.2"
  }
 },
 "nbformat": 4,
 "nbformat_minor": 2
}
