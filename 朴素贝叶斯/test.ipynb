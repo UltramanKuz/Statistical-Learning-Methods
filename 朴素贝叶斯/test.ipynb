{
 "cells": [
  {
   "cell_type": "code",
   "execution_count": 4,
   "metadata": {},
   "outputs": [
    {
     "name": "stdout",
     "output_type": "stream",
     "text": [
      "Start loading training data...\n",
      "Start loading testing data...\n",
      "Start training...\n",
      "Start testing...\n"
     ]
    },
    {
     "name": "stderr",
     "output_type": "stream",
     "text": [
      "100%|██████████| 10000/10000 [01:53<00:00, 88.18it/s]"
     ]
    },
    {
     "name": "stdout",
     "output_type": "stream",
     "text": [
      "Accuracy: 0.84\n",
      "Running time: 139.20834255218506 s\n"
     ]
    },
    {
     "name": "stderr",
     "output_type": "stream",
     "text": [
      "\n"
     ]
    }
   ],
   "source": [
    "import numpy as np\n",
    "import time as time\n",
    "import tqdm as tqdm\n",
    "\n",
    "\n",
    "def load_data(file_path):\n",
    "    \"\"\"\n",
    "    加载Mnist数据集\n",
    "    \"\"\"\n",
    "    data = []\n",
    "    label = []\n",
    "    with open(file_path, 'r') as f:\n",
    "        for line in f:\n",
    "            cur_line = line.strip().split(',')\n",
    "            label.append(int(cur_line[0]))\n",
    "            # 将[0, 255]转为[0, 1], 减少参数量\n",
    "            data.append([1 if int(i) >= 128 else 0 for i in cur_line[1:]])\n",
    "    return np.array(data), np.array(label)\n",
    "\n",
    "def getProbability(train_data, train_label):\n",
    "    \"\"\"\n",
    "    通过极大似然估计计算训练数据的先验概率和条件概率\n",
    "    P(y=c_k)：类别c_k的先验概率\n",
    "    P(x^(j)=a^(j)|y=c_k)：类别c_k的条件概率\n",
    "    \"\"\"\n",
    "    # 每条数据共有28 * 28个特征\n",
    "    feature_num = 28 * 28\n",
    "    # 数据共分为10类\n",
    "    class_num = 10\n",
    "\n",
    "    # 初始化先验概率和条件概率\n",
    "    Py = np.zeros((class_num, 1))\n",
    "    Px_y = np.zeros((class_num, feature_num, 2))\n",
    "\n",
    "    # 计算先验概率, 使用Laplace平滑，避免出现概率为0的情况\n",
    "    for i in range(class_num):\n",
    "        Py[i] = (np.sum(train_label == i) + 1) / (len(train_label) + class_num)\n",
    "    \n",
    "    # 计算条件概率，第一步先记录数据的类别和所有特征的出现次数\n",
    "    for i in range(len(train_data)):\n",
    "        label = train_label[i]\n",
    "        x = train_data[i]\n",
    "        for j in range(len(x)):\n",
    "            # 第j个特征在类别label下取值为x[j]的次数\n",
    "            Px_y[label][j][x[j]] += 1\n",
    "    \n",
    "    # 第二步计算条件概率，再次使用Laplace平滑, 避免出现概率为0的情况\n",
    "    for i in range(class_num):\n",
    "        for j in range(feature_num):\n",
    "            Px_y0 = Px_y[i][j][0]\n",
    "            Px_y1 = Px_y[i][j][1]\n",
    "            Px_y[i][j][0] = (Px_y0 + 1) / (Px_y0 + Px_y1 + 2)\n",
    "            Px_y[i][j][1] = (Px_y1 + 1) / (Px_y0 + Px_y1 + 2)\n",
    "\n",
    "    # 最终返回对数概率，目的是将极大似然估计变成对数极大似然估计，避免概率连乘导致下溢出\n",
    "    # 因此最终计算类别时，要求最大的对数概率和，而不是最大的概率积\n",
    "    return np.log(Py), np.log(Px_y)\n",
    "\n",
    "\n",
    "\n",
    "def NaiveBayes(Py, Px_y, x):\n",
    "    \"\"\"\n",
    "    朴素贝叶斯分类器：根据极大似然估计得到的参数估计量来估计样本类别\n",
    "    \"\"\"\n",
    "    P = np.zeros((10, 1))\n",
    "    for i in range(10):\n",
    "        P[i] = Py[i]\n",
    "        for j in range(len(x)):\n",
    "            # 计算对数概率和\n",
    "            P[i] += Px_y[i][j][x[j]]\n",
    "    # 返回最大概率的类别\n",
    "    return np.argmax(P)\n",
    "\n",
    "def test(test_data, test_label, Py, Px_y):\n",
    "    \"\"\"\n",
    "    测试分类器的准确率\n",
    "    \"\"\"\n",
    "    correct = 0\n",
    "    for i in tqdm.tqdm(range(len(test_data))):\n",
    "        label = NaiveBayes(Py, Px_y, test_data[i])\n",
    "        correct += (label == test_label[i])\n",
    "    return correct / len(test_data)\n",
    "\n",
    "def main():\n",
    "    # 加载数据\n",
    "    start_time = time.time()\n",
    "    print('Start loading training data...')\n",
    "    train_data, train_label = load_data('../mnist_train.csv')\n",
    "    print('Start loading testing data...')\n",
    "    test_data, test_label = load_data('../mnist_test.csv')\n",
    "\n",
    "    # 训练模型\n",
    "    print('Start training...')\n",
    "    Py, Px_y = getProbability(train_data, train_label)\n",
    "\n",
    "    # 评估模型\n",
    "    print('Start testing...')\n",
    "    acc = test(test_data, test_label, Py, Px_y)\n",
    "    end_time = time.time()\n",
    "    print('Accuracy: {:.2f}'.format(acc))\n",
    "    print('Running time:', end_time - start_time, 's')\n",
    "\n",
    "if __name__ == '__main__':\n",
    "    main()\n",
    "\n",
    "\n",
    "\n",
    "\n",
    "\n",
    "\n"
   ]
  }
 ],
 "metadata": {
  "kernelspec": {
   "display_name": "cu118",
   "language": "python",
   "name": "python3"
  },
  "language_info": {
   "codemirror_mode": {
    "name": "ipython",
    "version": 3
   },
   "file_extension": ".py",
   "mimetype": "text/x-python",
   "name": "python",
   "nbconvert_exporter": "python",
   "pygments_lexer": "ipython3",
   "version": "3.12.2"
  }
 },
 "nbformat": 4,
 "nbformat_minor": 2
}
